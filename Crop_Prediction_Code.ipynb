{
 "cells": [
  {
   "cell_type": "code",
   "execution_count": 14,
   "metadata": {},
   "outputs": [],
   "source": [
    "import pandas\n",
    "import matplotlib.pyplot as plt\n",
    "from sklearn.linear_model import LogisticRegression"
   ]
  },
  {
   "cell_type": "code",
   "execution_count": 15,
   "metadata": {},
   "outputs": [],
   "source": [
    "url = \"agriculture_crops.csv\"\n",
    "names = ['soil type', 'moisture content', 'weather','last crop grown','class']\n",
    "dataset = pandas.read_csv(url, names=names)"
   ]
  },
  {
   "cell_type": "code",
   "execution_count": 16,
   "metadata": {},
   "outputs": [
    {
     "name": "stdout",
     "output_type": "stream",
     "text": [
      "(30, 5)\n"
     ]
    }
   ],
   "source": [
    "print(dataset.shape)"
   ]
  },
  {
   "cell_type": "code",
   "execution_count": 17,
   "metadata": {},
   "outputs": [
    {
     "name": "stdout",
     "output_type": "stream",
     "text": [
      "    soil type  moisture content  weather  last crop grown       class\n",
      "0           1                10        4                1      Cotton\n",
      "1           1                20        1                2      Cotton\n",
      "2           1                40        2                1      Cotton\n",
      "3           1                50        3                2        Rice\n",
      "4           1                15        4                2        Rice\n",
      "5           2                25        1                1   Sugarcane\n",
      "6           2                17        2                3   Sugarcane\n",
      "7           2                45        3                4  Surgarcane\n",
      "8           2                34        4                5       Wheat\n",
      "9           2                23        1                4       Wheat\n",
      "10          3                57        1                6      Potato\n",
      "11          3                45        3                6      Potato\n",
      "12          3                23        3                6      Potato\n",
      "13          3                12        4                5       Maize\n",
      "14          3                23        4                3       Maize\n",
      "15          4                12        2                2        Rice\n",
      "16          4                45        2                2        Rice\n",
      "17          4                23        3                2         Tea\n",
      "18          4                34        3                7        Rice\n",
      "19          4                33        1                1         Tea\n"
     ]
    }
   ],
   "source": [
    "print(dataset.head(20))"
   ]
  },
  {
   "cell_type": "code",
   "execution_count": 18,
   "metadata": {},
   "outputs": [
    {
     "name": "stdout",
     "output_type": "stream",
     "text": [
      "       soil type  moisture content    weather  last crop grown\n",
      "count  30.000000         30.000000  30.000000        30.000000\n",
      "mean    3.500000         28.033333   2.600000         4.566667\n",
      "std     1.737021         12.866646   1.162637         2.990598\n",
      "min     1.000000         10.000000   1.000000         1.000000\n",
      "25%     2.000000         17.000000   2.000000         2.000000\n",
      "50%     3.500000         23.500000   3.000000         4.000000\n",
      "75%     5.000000         34.000000   4.000000         6.750000\n",
      "max     6.000000         57.000000   4.000000        10.000000\n"
     ]
    }
   ],
   "source": [
    "print(dataset.describe())"
   ]
  },
  {
   "cell_type": "code",
   "execution_count": 19,
   "metadata": {},
   "outputs": [
    {
     "name": "stdout",
     "output_type": "stream",
     "text": [
      "class\n",
      "Barley        3\n",
      "Coffee        2\n",
      "Cotton        5\n",
      "Maize         5\n",
      "Potato        3\n",
      "Rice          5\n",
      "Sugarcane     2\n",
      "Surgarcane    1\n",
      "Tea           2\n",
      "Wheat         2\n",
      "dtype: int64\n"
     ]
    }
   ],
   "source": [
    "print(dataset.groupby('class').size())"
   ]
  },
  {
   "cell_type": "code",
   "execution_count": 20,
   "metadata": {},
   "outputs": [
    {
     "data": {
      "image/png": "[encoded data removed]",
      "text/plain": [
       "<Figure size 432x288 with 4 Axes>"
      ]
     },
     "metadata": {
      "needs_background": "light"
     },
     "output_type": "display_data"
    }
   ],
   "source": [
    "dataset.hist()\n",
    "plt.show()"
   ]
  },
  {
   "cell_type": "code",
   "execution_count": 21,
   "metadata": {},
   "outputs": [
    {
     "data": {
      "text/plain": [
       "LogisticRegression(C=1.0, class_weight=None, dual=False, fit_intercept=True,\n",
       "          intercept_scaling=1, max_iter=100, multi_class='warn',\n",
       "          n_jobs=None, penalty='l2', random_state=None, solver='warn',\n",
       "          tol=0.0001, verbose=0, warm_start=False)"
      ]
     },
     "execution_count": 21,
     "metadata": {},
     "output_type": "execute_result"
    }
   ],
   "source": [
    "array = dataset.values\n",
    "X = array[:,0:4]\n",
    "Y = array[:,4]\n",
    "test_size = 0.20\n",
    "seed = 7\n",
    "X_train, X_test, Y_train, Y_test = model_selection.train_test_split(X, Y, test_size=test_size, random_state=seed)\n",
    "model = LogisticRegression()\n",
    "model.fit(X_train, Y_train)"
   ]
  },
  {
   "cell_type": "code",
   "execution_count": 22,
   "metadata": {},
   "outputs": [
    {
     "name": "stdout",
     "output_type": "stream",
     "text": [
      "X=[1, 10, 4, 1], Predicted=Rice\n",
      "X=[45, 100, 1, 0], Predicted=Coffee\n"
     ]
    }
   ],
   "source": [
    "Xnew = [[1,10,4,1], [45,100,1,0]]\n",
    "# make a prediction\n",
    "ynew = model.predict(Xnew)\n",
    "\n",
    "\n",
    "# show the inputs and predicted outputs\n",
    "for i in range(len(Xnew)):\n",
    "\tprint(\"X=%s, Predicted=%s\" % (Xnew[i], ynew[i]))"
   ]
  },
  {
   "cell_type": "code",
   "execution_count": null,
   "metadata": {},
   "outputs": [],
   "source": []
  }
 ],
 "metadata": {
  "kernelspec": {
   "display_name": "Python 2",
   "language": "python",
   "name": "python2"
  },
  "language_info": {
   "codemirror_mode": {
    "name": "ipython",
    "version": 2
   },
   "file_extension": ".py",
   "mimetype": "text/x-python",
   "name": "python",
   "nbconvert_exporter": "python",
   "pygments_lexer": "ipython2",
   "version": "2.7.15"
  }
 },
 "nbformat": 4,
 "nbformat_minor": 2
}
